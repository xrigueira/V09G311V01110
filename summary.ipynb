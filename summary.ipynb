{
 "cells": [
  {
   "cell_type": "markdown",
   "metadata": {},
   "source": [
    "# Resumen de Informática para la Ingeniería\n",
    "\n",
    "Este documento consiste en una guía-resumen sobre las estrategias y conceptos de programación más importantes de la asignatura.\n",
    "\n",
    "### Antes de programar:\n",
    "Antes de resolver un ejercicio mediante programación es importante realizar los siguientes pasos.\n",
    "\n",
    "1. Leer el enunciado y entenderlo bien.\n",
    "2. Romper el problema en trozos más pequeños y pensar en formas secillas y que se conozcan bien para resolver cada una de las partes del problema.\n",
    "3. Construir y testear que cada parte funciona como queremos.\n",
    "4. Ponerlo todo junto y testear que funciona como queremos.\n",
    "5. Añadir comentarios a medida que se desarrolla cada parte del problema. Esto ayuda a entender lo que se está haciendo y a que otras personas lo entiendan a posteriori.\n",
    "6. En caso de errores leer la salida del terminal y comprenderla.\n",
    "7. En caso de no estar seguros de que está guardado en cada variable en todo momento, emplear *print()* para comprobarlo."
   ]
  },
  {
   "cell_type": "markdown",
   "metadata": {},
   "source": [
    "### 1. Función *print()*, tipos de variables y función *input()*\n",
    "\n",
    "La función *print()* sirve para mostrar datos en el terminal:"
   ]
  },
  {
   "cell_type": "code",
   "execution_count": null,
   "metadata": {},
   "outputs": [],
   "source": [
    "print('Hola mundo!')"
   ]
  },
  {
   "cell_type": "markdown",
   "metadata": {},
   "source": [
    "Si queremos incluir variables dentro de nuestro *print()* podemos emplear *f-strings*:\n"
   ]
  },
  {
   "cell_type": "code",
   "execution_count": null,
   "metadata": {},
   "outputs": [],
   "source": [
    "nombre = 'Rigoberto'\n",
    "print(f'Hola {nombre}!')"
   ]
  },
  {
   "cell_type": "markdown",
   "metadata": {},
   "source": [
    "Existen varios tipos de variables:"
   ]
  },
  {
   "cell_type": "code",
   "execution_count": null,
   "metadata": {},
   "outputs": [],
   "source": [
    "# Numeros enteros\n",
    "numero_entero = 1\n",
    "print( type(numero_entero)) # Mostrar el tipo de dato con print y type\n",
    "\n",
    "# Numeros decimales\n",
    "numero_decimal = 1.5\n",
    "print(type(numero_decimal))\n",
    "\n",
    "# Cadenas\n",
    "cadena = 'hola'\n",
    "print(type(cadena))\n",
    "\n",
    "# Booleanos\n",
    "booleano = True # True o False\n",
    "print(type(booleano))"
   ]
  },
  {
   "cell_type": "markdown",
   "metadata": {},
   "source": [
    "Existen funciones para realizar conversiones entre tipos de datos:\n",
    "- Convertir un número entero a cadena con *str()*\n",
    "- Convertir un número entero a decimal con *float()*\n",
    "- Convertir un número decimal a entero con *int()*"
   ]
  },
  {
   "cell_type": "code",
   "execution_count": null,
   "metadata": {},
   "outputs": [],
   "source": [
    "# Convertir un numero entero a cadena\n",
    "numero_entero_cadena = str(numero_entero)\n",
    "print(type(numero_entero_cadena))\n",
    "\n",
    "# Convertir un numero entero a decimal\n",
    "numero_entero_decimal = float(numero_entero)\n",
    "print(type(numero_entero_decimal))\n",
    "\n",
    "# Convertir un numero decimal a entero\n",
    "numero_decimal_entero = int(numero_decimal)\n",
    "print(type(numero_decimal_entero))\n"
   ]
  },
  {
   "cell_type": "markdown",
   "metadata": {},
   "source": [
    "La función *input()* sirve para pedir al usuario un dato. **Esta función devuelve un *str* por defecto**. Si queremos un entero, por ejemplo, hay que aplicarle la función int():"
   ]
  },
  {
   "cell_type": "code",
   "execution_count": null,
   "metadata": {},
   "outputs": [],
   "source": [
    "edad = input('¿Cuántos años tienes?: ')\n",
    "print(type(edad))\n",
    "print(f'Tienes {edad} años')\n",
    "\n",
    "edad = int(input('¿Cuántos años tienes?: '))\n",
    "print(type(edad))\n",
    "print(f'Tienes {edad} años')"
   ]
  },
  {
   "cell_type": "markdown",
   "metadata": {},
   "source": [
    "### 2. Estructuras de datos\n",
    "Existen varias estruturas de datos. Las más importantes para esta asignatura se exploran en esta sección."
   ]
  },
  {
   "cell_type": "markdown",
   "metadata": {},
   "source": [
    "#### Listas\n",
    "Las listas se definen entre corchetes *[]*, son mutables y pueden almacenar distintos tipos de datos. Es decir, podemos acceder a cada unos de sus elementos y cambiarlos. \n",
    "\n",
    "Para acceder a los elementos también se emplean los corchetes y un índice que nos indica la posición del elemento al que queremos acceder. \n",
    "\n",
    "Por último, en caso de que querramos acceder a un trozo en concreto podemos emplear *slicing* definiendo el índice inicial y el final entre dos puntos."
   ]
  },
  {
   "cell_type": "code",
   "execution_count": null,
   "metadata": {},
   "outputs": [],
   "source": [
    "lista = [1, 2, 3, 'Hola', 9.5]\n",
    "print(lista[0]) # Los índices en Python empiezan a contarse desde 0. Es decir, el primer elemento tiene la posición 0, el segundo el 1 y así sucesivamente.\n",
    "print(lista[-1]) # Imprimir el último elemento de la lista\n",
    "\n",
    "# Modificar un elemento de la lista\n",
    "lista[0] = 5\n",
    "print(lista)\n",
    "\n",
    "print(lista[3]) # Imprimir el documento antes de su modificación\n",
    "lista[3] = 'Adios' # Modificar un elemento de la lista\n",
    "print(lista[3]) # Imprimir el documento después de su modificación\n",
    "print(lista)\n",
    "\n",
    "# Slicing\n",
    "print(lista[0:3]) # Imprimir los primeros 3 elementos de la lista"
   ]
  },
  {
   "cell_type": "markdown",
   "metadata": {},
   "source": [
    "#### Tuplas\n",
    "Las tuplas se definen entre paréntesis *()*, son inmutables y puden almacenar datos de distintos tipos.\n",
    "\n",
    "También podemos acceder a sus elementos mediante el uso de los corchetes y emplear *slicing*."
   ]
  },
  {
   "cell_type": "code",
   "execution_count": null,
   "metadata": {},
   "outputs": [],
   "source": [
    "tupla = (1, 2, 3, 'Hola', 9.5)\n",
    "print(tupla[3])\n",
    "print(tupla)\n",
    "print(tupla[1:4])"
   ]
  },
  {
   "cell_type": "markdown",
   "metadata": {},
   "source": [
    "#### Listas anidadas\n",
    "Las listas anidadas son listas dentro de listas, también referidas como listas 2D o matrices. Tiene las mismas propiedades que las listas."
   ]
  },
  {
   "cell_type": "code",
   "execution_count": null,
   "metadata": {},
   "outputs": [],
   "source": [
    "matriz = [[1, 2, 3], [4, 5, 6], [7, 8, 9]]\n",
    "print(matriz[0]) # Imprimir la primera fila de la matriz\n",
    "print(matriz[0][0]) # Imprimir el primer elemento de la primera fila de la matriz"
   ]
  },
  {
   "cell_type": "markdown",
   "metadata": {},
   "source": [
    "#### Métodos de listas\n",
    "En Python las listas tiene una serie de métodos que permiten realizar operaciones sobre o con ellas.\n",
    "- *len()*: devuelve la longitud de una lista (número de elementos).\n",
    "- *sum()*: suma los elementos de una lista en caso de ser *int* o *float*.\n",
    "- *sorted()*: ordena los elementos de una lista en caso de ser *int* o *float*.\n",
    "- *pop()*: elimina y devuelve el elemento de una posición indicada.\n",
    "- *append()*: añade un elemento al final de una lista."
   ]
  },
  {
   "cell_type": "code",
   "execution_count": null,
   "metadata": {},
   "outputs": [],
   "source": [
    "lista = [1, 2, 3, 4, 5]\n",
    "\n",
    "# len\n",
    "print(len(lista)) # Imprimir la longitud de la lista\n",
    "longitud = len(lista) # Guardar la longitud de la lista en una variable\n",
    "\n",
    "# sum\n",
    "print(sum(lista)) # Imprimir la suma de los elementos de la lista\n",
    "suma = sum(lista) # Guardar la suma de los elementos de la lista en una variable\n",
    "\n",
    "# sorted\n",
    "print(sorted(lista)) # Imprimir la lista ordenada\n",
    "lista_ordenada = sorted(lista) # Guardar la lista ordenada en una variable\n",
    "\n",
    "# pop\n",
    "segundo_elemento = lista.pop(2) # Eliminar el segundo elemento de la lista\n",
    "print(segundo_elemento)\n",
    "print(lista)\n",
    "\n",
    "# append\n",
    "lista.append(6) # Agregar un elemento al final de la lista\n",
    "print(lista)"
   ]
  },
  {
   "cell_type": "markdown",
   "metadata": {},
   "source": [
    "### 3. Control de flujo\n",
    "\n",
    "#### 3.1 Condicionales\n",
    "Las instancias condicionales sirven para indicar al programa que hacer en función de que se cumpla cierto criterio/condición."
   ]
  },
  {
   "cell_type": "code",
   "execution_count": null,
   "metadata": {},
   "outputs": [],
   "source": [
    "tiempo_atmosferico = 'soleado'\n",
    "\n",
    "if tiempo_atmosferico == 'lluvioso':\n",
    "    print('Lleva paraguas')\n",
    "\n",
    "elif tiempo_atmosferico == 'nublado':\n",
    "    print('Lleva sudadera')\n",
    "\n",
    "else:\n",
    "    print('Lleva gafas de sol')"
   ]
  },
  {
   "cell_type": "markdown",
   "metadata": {},
   "source": [
    "#### 3.2 Bucle *while*\n",
    "El bucle *while* sirve para ejecutar un trozo de código de forma repetitiva siempre que se cumpla una condición."
   ]
  },
  {
   "cell_type": "code",
   "execution_count": null,
   "metadata": {},
   "outputs": [],
   "source": [
    "contador = 0\n",
    "while contador < 10:\n",
    "    resultado = contador * 2\n",
    "    print(f'El doble de {contador} es {resultado}')\n",
    "    contador += 1"
   ]
  },
  {
   "cell_type": "markdown",
   "metadata": {},
   "source": [
    "#### 3.3 Bucle *for*\n",
    "El bucle de tipo *for* sirve para recorrer una lista, una cadena o una tupla, para, por ejemplo, realizar operaciones con sus elementos."
   ]
  },
  {
   "cell_type": "code",
   "execution_count": null,
   "metadata": {},
   "outputs": [],
   "source": [
    "lista = [1, 2, 3, 4, 5]\n",
    "for elemento in lista:\n",
    "    resultado = elemento * 2\n",
    "    print(f'El doble de {elemento} es {resultado}')\n",
    "\n",
    "cadena = 'Hola'\n",
    "for caracter in cadena:\n",
    "    print(caracter)\n",
    "\n",
    "lista_dobles = []\n",
    "for i in lista:\n",
    "    lista_dobles.append(i * 2)\n",
    "print(lista_dobles)"
   ]
  },
  {
   "cell_type": "markdown",
   "metadata": {},
   "source": [
    "Además el bucle *for* se puede combinar con dos funciones, entre otras, para incrementar su flexibilidad.\n",
    "- *range(num_inicio, num_final, paso)*: crear un rango entre dos números datos y el paso entre números\n",
    "- *enumerate()*: devuelve la posición y el elemento de una lista para uno de los ítems que la componen."
   ]
  },
  {
   "cell_type": "code",
   "execution_count": null,
   "metadata": {},
   "outputs": [],
   "source": [
    "for i in range(10):\n",
    "    print(i)\n",
    "\n",
    "lista = ['Hola', 'Adios', 'Buenos días', 'Buenas noches']\n",
    "for i, e in enumerate(lista):\n",
    "    print(f'El elemento {i} de la lista es {e}')"
   ]
  },
  {
   "cell_type": "markdown",
   "metadata": {},
   "source": [
    "### 4. Fuciones\n",
    "Las funciones son bloques de código reutilizables que encapsulan una tarea específica. Permiten hacer el código más fácil de leer y entender.\n",
    "\n",
    "- Definición: La palabra clave *def* seguida del nombre de la función, paréntesis con parámetros opcionales, dos puntos y el bloque de código indentado.\n",
    "- Parámetros: Variables que reciben valores al llamar a la función. Se definen entre paréntesis, separados por comas.\n",
    "- Retorno: Valor o valores que la función devuelve al finalizar su ejecución. Se utiliza la palabra clave *return*."
   ]
  },
  {
   "cell_type": "code",
   "execution_count": null,
   "metadata": {},
   "outputs": [],
   "source": [
    "import math\n",
    "def area_circulo(radio): # Definimos una función que calcule el área de un círculo\n",
    "    area = math.pi * radio ** 2 # Calculamos el área del círculo\n",
    "    return area # Devolvemos el área del círculo\n",
    "\n",
    "# Llamamos a la función con un radio de 5\n",
    "resultado = area_circulo(radio=5)\n",
    "print(resultado)\n",
    "\n",
    "def es_primo(numero): # Definimos una función que determine si un número es primo\n",
    "    if numero % 2 == 0: # Si el número es divisible por 2, no es primo\n",
    "        print(f'{numero} no es primo')\n",
    "    else:\n",
    "        print(f'{numero} es primo')\n",
    "\n",
    "# Llamamos a la función con el número 7\n",
    "es_primo(7)"
   ]
  },
  {
   "cell_type": "markdown",
   "metadata": {},
   "source": [
    "### 5. Ficheros\n",
    "Para almacenar los datos en ficheros y trabajar con ellos dentro de un programa es muy importante manter el fichero con una estructura simple y constante (véase, separados por comas y sin espacios), para que, de esta forma, sea sencillo leer el fichero y cargarlo en una estructura de datos con la que se pueda operar más fácilmente (véase una lista, lista 2D o tupla). Una vez se hayan realizado las operaciónes se guardarán los datos contenidos en la estructura en el fichero siguiendo el mismo patrón. Esta secuencia de operaciones permite que sea repetitivas. Es decir:\n",
    "\n",
    "1. Se cargan los datos de fichero a estructura de datos.\n",
    "2. Se trabaja con los datos.\n",
    "3. Se guardan los datos almacenados en la estructura en el fichero.\n",
    "\n",
    "*La práctica número 6 contiene ejemplos de este procedimiento.*"
   ]
  },
  {
   "cell_type": "markdown",
   "metadata": {},
   "source": [
    "### 6. Interfaz gráfica\n",
    "Toda la parte de interfaz se desarrolla empleando la librería *tkinter*. El primer paso es importar dicha libería y definir la ventana que contendrá los distintos elementos de la interfaz. A continuación se exploran los métodos más importantes para el diseño gráfico de interfaces con tkinter."
   ]
  },
  {
   "cell_type": "code",
   "execution_count": null,
   "metadata": {},
   "outputs": [],
   "source": [
    "import tkinter as tk\n",
    "\n",
    "# Creamos una ventana\n",
    "ventana = tk.Tk()\n",
    "ventana.geometry('300x200') # Establecemos el tamaño de la ventana\n",
    "ventana.title('Ejemplo de IGU') # Establecemos el título de la ventana"
   ]
  },
  {
   "cell_type": "markdown",
   "metadata": {},
   "source": [
    "*Label()* se emplea para colocar texto en la ventana."
   ]
  },
  {
   "cell_type": "code",
   "execution_count": null,
   "metadata": {},
   "outputs": [],
   "source": [
    "etiqueta = tk.Label(ventana, text='Ejemplo etiqueta') # Creamos una etiqueta\n",
    "etiqueta.grid(row=0, column=0) # Colocamos la etiqueta en la ventana"
   ]
  },
  {
   "cell_type": "markdown",
   "metadata": {},
   "source": [
    "*Entry()* se emplea para definir un campo de entrada de datos."
   ]
  },
  {
   "cell_type": "code",
   "execution_count": null,
   "metadata": {},
   "outputs": [],
   "source": [
    "variable = tk.StringVar() # Creamos una variable de texto. Esta variable puede ser un entero o un decimal (tk.IntVar() o tk.DoubleVar()\n",
    "entrada = tk.Entry(ventana, textvariable=variable) # Creamos una entrada de texto con una variable asociada donde se guardará el texto introducido\n",
    "entrada.grid(row=0, column=1) # Colocamos la entrada de texto en la ventana"
   ]
  },
  {
   "cell_type": "markdown",
   "metadata": {},
   "source": [
    "*tk.Button()* se emplea para definir un botón el cual permite realizar una acción cuando tiene una función asociada."
   ]
  },
  {
   "cell_type": "code",
   "execution_count": null,
   "metadata": {},
   "outputs": [],
   "source": [
    "def funcion(): # Definimos una función que se ejecutará al pulsar el botón\n",
    "    texto = variable.get() # Obtenemos el texto introducido en la entrada de texto\n",
    "    print(texto) # Imprimimos el texto\n",
    "\n",
    "boton = tk.Button(ventana, text='Pulsa aquí', command=funcion) # Creamos un botón\n",
    "boton.grid(row=0, column=3) # Colocamos el botón en la ventana"
   ]
  },
  {
   "cell_type": "markdown",
   "metadata": {},
   "source": [
    "*LabelFrame* sirve para crear subventanas/marcos"
   ]
  },
  {
   "cell_type": "code",
   "execution_count": null,
   "metadata": {},
   "outputs": [],
   "source": [
    "marco = tk.Frame(ventana) # Creamos un marco\n",
    "marco.grid(row=1, column=0, columnspan=4) # Colocamos el marco en la ventana"
   ]
  },
  {
   "cell_type": "markdown",
   "metadata": {},
   "source": [
    "*Radiobutton()* permite crear boton de selección circulares y realizar un acción cuando tiene una función asociada. Cuando se ejecuta, asigna el valor de *value* a la variable definida en *variable*. Esta variable se puede emplear, por ejemplo, para definir los condicioneles de una función con *variable.get()*."
   ]
  },
  {
   "cell_type": "code",
   "execution_count": null,
   "metadata": {},
   "outputs": [],
   "source": [
    "variable_radio_boton = tk.StringVar() # Creamos una variable de texto\n",
    "radio_boton = tk.Radiobutton(marco, text='Opción 1', variable=variable_radio_boton, value='opcion_1') # Creamos el botón de radio\n",
    "radio_boton.grid(row=1, column=0) # Colocamos el botón en el marco"
   ]
  },
  {
   "cell_type": "markdown",
   "metadata": {},
   "source": [
    "El paso final es definir el bucle principal para mostrar la inerfraz gráfica en pantalla."
   ]
  },
  {
   "cell_type": "code",
   "execution_count": null,
   "metadata": {},
   "outputs": [],
   "source": [
    "ventana.mainloop() # Mostramos la ventana"
   ]
  },
  {
   "cell_type": "markdown",
   "metadata": {},
   "source": [
    "En este repositorio hay ejemplos disponibles de desarrollo de interfaces gráficas con definición de variables y funciones propias asignadas a botones. Es importnate destacar que las funciones empleadas en el desarrollo de interfaces no reciben parámetros si devuleven resultados. En su lugar se llama a las variables con el comando *.get()* y el resultado se asigna a una variable, etiqueta o entrada, con *.set()* o *.config()* en función de tipo de objeto que sea."
   ]
  }
 ],
 "metadata": {
  "kernelspec": {
   "display_name": "Python 3",
   "language": "python",
   "name": "python3"
  },
  "language_info": {
   "codemirror_mode": {
    "name": "ipython",
    "version": 3
   },
   "file_extension": ".py",
   "mimetype": "text/x-python",
   "name": "python",
   "nbconvert_exporter": "python",
   "pygments_lexer": "ipython3",
   "version": "3.9.12"
  }
 },
 "nbformat": 4,
 "nbformat_minor": 2
}
