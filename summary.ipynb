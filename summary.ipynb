{
 "cells": [
  {
   "cell_type": "markdown",
   "metadata": {},
   "source": [
    "# Resumen de Informática para la Ingeniería\n",
    "\n",
    "Este documento consiste en una guía-resumen sobre las estrategias y conceptos de programación más importantes de la asignatura.\n",
    "\n",
    "### Antes de programar:\n",
    "Antes de resolver un ejercicio mediante programación es importante realizar los siguientes pasos.\n",
    "\n",
    "1. Leer el enunciado y entenderlo bien.\n",
    "2. Romper el problema en trozos más pequeños y pensar en formas secillas y que se conozcan bien para resolver cada una de las partes del problema.\n",
    "3. Construir y testear que cada parte funciona como queremos.\n",
    "4. Ponerlo todo junto y testear que funciona como queremos.\n",
    "5. Añadir comentarios a medida que se desarrolla cada parte del problema. Esto ayuda a entender lo que se está haciendo y a que otras personas lo entiendan a posteriori.\n",
    "6. En caso de errores leer la salida del terminal y comprenderla.\n",
    "7. En caso de no estar seguros de que está guardado en cada variable en todo momento, emplear *print()* para comprobarlo."
   ]
  },
  {
   "cell_type": "markdown",
   "metadata": {},
   "source": [
    "### 1. Función *print()*, tipos de variables y función *input()*\n",
    "\n",
    "La función *print()* sirve para mostrar datos en el terminal:"
   ]
  },
  {
   "cell_type": "code",
   "execution_count": null,
   "metadata": {},
   "outputs": [],
   "source": [
    "print('Hola mundo!')"
   ]
  },
  {
   "cell_type": "markdown",
   "metadata": {},
   "source": [
    "Si queremos incluir variables dentro de nuestro *print()* podemos emplear *f-strings*:\n"
   ]
  },
  {
   "cell_type": "code",
   "execution_count": null,
   "metadata": {},
   "outputs": [],
   "source": [
    "nombre = 'Rigoberto'\n",
    "print(f'Hola {nombre}!')"
   ]
  },
  {
   "cell_type": "markdown",
   "metadata": {},
   "source": [
    "Existen varios tipos de variables:"
   ]
  },
  {
   "cell_type": "code",
   "execution_count": null,
   "metadata": {},
   "outputs": [],
   "source": [
    "# Numeros enteros\n",
    "numero_entero = 1\n",
    "print( type(numero_entero)) # Mostrar el tipo de dato con print y type\n",
    "\n",
    "# Numeros decimales\n",
    "numero_decimal = 1.5\n",
    "print(type(numero_decimal))\n",
    "\n",
    "# Cadenas\n",
    "cadena = 'hola'\n",
    "print(type(cadena))\n",
    "\n",
    "# Booleanos\n",
    "booleano = True # True o False\n",
    "print(type(booleano))"
   ]
  },
  {
   "cell_type": "markdown",
   "metadata": {},
   "source": [
    "Existen funciones para realizar conversiones entre tipos de datos:\n",
    "- Convertir un número entero a cadena con *str()*\n",
    "- Convertir un número entero a decimal con *float()*\n",
    "- Convertir un número decimal a entero con *int()*"
   ]
  },
  {
   "cell_type": "code",
   "execution_count": null,
   "metadata": {},
   "outputs": [],
   "source": [
    "# Convertir un numero entero a cadena\n",
    "numero_entero_cadena = str(numero_entero)\n",
    "print(type(numero_entero_cadena))\n",
    "\n",
    "# Convertir un numero entero a decimal\n",
    "numero_entero_decimal = float(numero_entero)\n",
    "print(type(numero_entero_decimal))\n",
    "\n",
    "# Convertir un numero decimal a entero\n",
    "numero_decimal_entero = int(numero_decimal)\n",
    "print(type(numero_decimal_entero))\n"
   ]
  },
  {
   "cell_type": "markdown",
   "metadata": {},
   "source": [
    "La función *input()* sirve para pedir al usuario un dato. **Esta función devuelve un *str* por defecto**. Si queremos un entero, por ejemplo, hay que aplicarle la función int():"
   ]
  },
  {
   "cell_type": "code",
   "execution_count": null,
   "metadata": {},
   "outputs": [],
   "source": [
    "edad = input('¿Cuántos años tienes?: ')\n",
    "print(type(edad))\n",
    "print(f'Tienes {edad} años')\n",
    "\n",
    "edad = int(input('¿Cuántos años tienes?: '))\n",
    "print(type(edad))\n",
    "print(f'Tienes {edad} años')"
   ]
  },
  {
   "cell_type": "markdown",
   "metadata": {},
   "source": [
    "### 2. Estructuras de datos\n",
    "Existen varias estruturas de datos. Las más importantes para esta asignatura se exploran en esta sección."
   ]
  },
  {
   "cell_type": "markdown",
   "metadata": {},
   "source": [
    "#### Listas\n",
    "Las listas se definen entre corchetes *[]*, son mutables y pueden almacenar distintos tipos de datos. Es decir, podemos acceder a cada unos de sus elementos y cambiarlos. \n",
    "\n",
    "Para acceder a los elementos también se emplean los corchetes y un índice que nos indica la posición del elemento al que queremos acceder. \n",
    "\n",
    "Por último, en caso de que querramos acceder a un trozo en concreto podemos emplear *slicing* definiendo el índice inicial y el final entre dos puntos."
   ]
  },
  {
   "cell_type": "code",
   "execution_count": null,
   "metadata": {},
   "outputs": [],
   "source": [
    "lista = [1, 2, 3, 'Hola', 9.5]\n",
    "print(lista[0]) # Los índices en Python empiezan a contarse desde 0. Es decir, el primer elemento tiene la posición 0, el segundo el 1 y así sucesivamente.\n",
    "print(lista[-1]) # Imprimir el último elemento de la lista\n",
    "\n",
    "# Modificar un elemento de la lista\n",
    "lista[0] = 5\n",
    "print(lista)\n",
    "\n",
    "print(lista[3]) # Imprimir el documento antes de su modificación\n",
    "lista[3] = 'Adios' # Modificar un elemento de la lista\n",
    "print(lista[3]) # Imprimir el documento después de su modificación\n",
    "print(lista)\n",
    "\n",
    "# Slicing\n",
    "print(lista[0:3]) # Imprimir los primeros 3 elementos de la lista"
   ]
  },
  {
   "cell_type": "markdown",
   "metadata": {},
   "source": [
    "#### Tuplas\n",
    "Las tuplas se definen entre paréntesis *()*, son inmutables y puden almacenar datos de distintos tipos.\n",
    "\n",
    "También podemos acceder a sus elementos mediante el uso de los corchetes y emplear *slicing*."
   ]
  },
  {
   "cell_type": "code",
   "execution_count": null,
   "metadata": {},
   "outputs": [],
   "source": [
    "tupla = (1, 2, 3, 'Hola', 9.5)\n",
    "print(tupla[3])\n",
    "print(tupla)\n",
    "print(tupla[1:4])"
   ]
  },
  {
   "cell_type": "markdown",
   "metadata": {},
   "source": [
    "#### Listas anidadas\n",
    "Las listas anidadas son listas dentro de listas, también referidas como listas 2D o matrices. Tiene las mismas propiedades que las listas."
   ]
  },
  {
   "cell_type": "code",
   "execution_count": null,
   "metadata": {},
   "outputs": [],
   "source": [
    "matriz = [[1, 2, 3], [4, 5, 6], [7, 8, 9]]\n",
    "print(matriz[0]) # Imprimir la primera fila de la matriz\n",
    "print(matriz[0][0]) # Imprimir el primer elemento de la primera fila de la matriz"
   ]
  },
  {
   "cell_type": "markdown",
   "metadata": {},
   "source": [
    "#### Métodos de listas\n",
    "En Python las listas tiene una serie de métodos que permiten realizar operaciones sobre o con ellas.\n",
    "- *len()*: devuelve la longitud de una lista (número de elementos).\n",
    "- *sum()*: suma los elementos de una lista en caso de ser *int* o *float*.\n",
    "- *sorted()*: ordena los elementos de una lista en caso de ser *int* o *float*.\n",
    "- *pop()*: elimina y devuelve el elemento de una posición indicada.\n",
    "- *append()*: añade un elemento al final de una lista."
   ]
  },
  {
   "cell_type": "code",
   "execution_count": null,
   "metadata": {},
   "outputs": [],
   "source": [
    "lista = [1, 2, 3, 4, 5]\n",
    "\n",
    "# len\n",
    "print(len(lista)) # Imprimir la longitud de la lista\n",
    "longitud = len(lista) # Guardar la longitud de la lista en una variable\n",
    "\n",
    "# sum\n",
    "print(sum(lista)) # Imprimir la suma de los elementos de la lista\n",
    "suma = sum(lista) # Guardar la suma de los elementos de la lista en una variable\n",
    "\n",
    "# sorted\n",
    "print(sorted(lista)) # Imprimir la lista ordenada\n",
    "lista_ordenada = sorted(lista) # Guardar la lista ordenada en una variable\n",
    "\n",
    "# pop\n",
    "segundo_elemento = lista.pop(2) # Eliminar el segundo elemento de la lista\n",
    "print(segundo_elemento)\n",
    "print(lista)\n",
    "\n",
    "# append\n",
    "lista.append(6) # Agregar un elemento al final de la lista\n",
    "print(lista)"
   ]
  },
  {
   "cell_type": "markdown",
   "metadata": {},
   "source": [
    "### 3. Control de flujo\n",
    "\n",
    "#### 3.1 Condicionales\n",
    "Las instancias condicionales sirven para indicar al programa que hacer en función de que se cumpla cierto criterio/condición."
   ]
  },
  {
   "cell_type": "code",
   "execution_count": null,
   "metadata": {},
   "outputs": [],
   "source": [
    "tiempo_atmosferico = 'soleado'\n",
    "\n",
    "if tiempo_atmosferico == 'lluvioso':\n",
    "    print('Lleva paraguas')\n",
    "\n",
    "elif tiempo_atmosferico == 'nublado':\n",
    "    print('Lleva sudadera')\n",
    "\n",
    "else:\n",
    "    print('Lleva gafas de sol')"
   ]
  },
  {
   "cell_type": "markdown",
   "metadata": {},
   "source": [
    "#### 3.2 Bucle *while*\n",
    "El bucle *while* sirve para ejecutar un trozo de código de forma repetitiva siempre que se cumpla una condición."
   ]
  },
  {
   "cell_type": "code",
   "execution_count": null,
   "metadata": {},
   "outputs": [],
   "source": [
    "contador = 0\n",
    "while contador < 10:\n",
    "    resultado = contador * 2\n",
    "    print(f'El doble de {contador} es {resultado}')\n",
    "    contador += 1"
   ]
  },
  {
   "cell_type": "markdown",
   "metadata": {},
   "source": [
    "#### 3.3 Bucle *for*\n",
    "El bucle de tipo *for* sirve para recorrer una lista, una cadena o una tupla, para, por ejemplo, realizar operaciones con sus elementos."
   ]
  },
  {
   "cell_type": "code",
   "execution_count": null,
   "metadata": {},
   "outputs": [],
   "source": [
    "Code here"
   ]
  },
  {
   "cell_type": "markdown",
   "metadata": {},
   "source": [
    "Además el bucle *for* se puede combinar con dos funciones, entre otras, para incrementar su flexibilidad.\n",
    "- *range(num_inicio, num_final, paso)*: crear un rango entre dos números datos y el paso entre números\n",
    "- *enumerate()*: devuelve la posición y el elemento de una lista para uno de los ítems que la componen."
   ]
  },
  {
   "cell_type": "code",
   "execution_count": null,
   "metadata": {},
   "outputs": [],
   "source": [
    "Code here"
   ]
  }
 ],
 "metadata": {
  "kernelspec": {
   "display_name": "Python 3",
   "language": "python",
   "name": "python3"
  },
  "language_info": {
   "codemirror_mode": {
    "name": "ipython",
    "version": 3
   },
   "file_extension": ".py",
   "mimetype": "text/x-python",
   "name": "python",
   "nbconvert_exporter": "python",
   "pygments_lexer": "ipython3",
   "version": "3.9.12"
  }
 },
 "nbformat": 4,
 "nbformat_minor": 2
}
